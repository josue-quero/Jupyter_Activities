{
 "cells": [
  {
   "cell_type": "markdown",
   "id": "appointed-period",
   "metadata": {},
   "source": [
    "# Instrucciones\n",
    "\n",
    "Se trata de una tarea individual.\n",
    "\n",
    "Responde los puntos de cada pregunta (P1: 20 puntos. P2: 20 puntos. P3: 60 puntos):\n",
    "\n",
    "1. Sean tres puntos A = [1, 4, -3], B = [-2, 2, 1] y C = [3, -1, 4]:\n",
    "\n",
    "    * Q se determina escalando el punto A en X, Y y Z por un factor de 1.372 y trasladándolo con las coordenadas de B.\n",
    "    * Rota el punto C, 37.2° con respecto al eje Y. Toma como punto pivote al punto Q.\n",
    "\n",
    "2. Considera una pirámide triangular regular. Su lado a = π y su altura h = 23−−√a La base de la pirámide está centrada en el punto D = (-2.345, -7.317, 1.328).\n",
    "\n",
    "    * Encuentra todos los vértices de la pirámide.\n",
    "    * Encuentra la nueva posición de cada vértice cuando la pirámide es rotada con respecto al eje Z por -23°. Usa como pivote el centroide de la pirámide (el centroide es el promedio de cada componente de cada vértice).\n",
    "    \n",
    "3. Implementa la solución de la Pregunta 2 usando la librería gráfica que indique tu instructor (OpenGL, Unity, Unreal, WebGL)\n",
    "\n",
    "    * Utiliza el equivalente a transformaciones homogéneas para obtener el resultado. Es decir, no es válido trasladar hacia el resultado final.\n",
    "    * Tampoco es válido usar funciones predefinidas para transladar y rotar. En su lugar, implementa tus propias funciones de multiplicación homogénea y dibuja líneas al final del proceso, usando los puntos obtenidos.\n",
    "    * Verifica que el resultado teórico corresponda con el resultado de la ejecución del programa.\n",
    "    \n",
    "###### David Josué Marcial Quero\n",
    "###### A00828702"
   ]
  },
  {
   "cell_type": "code",
   "execution_count": 1,
   "id": "ongoing-dylan",
   "metadata": {},
   "outputs": [
    {
     "name": "stdout",
     "output_type": "stream",
     "text": [
      "Requirement already satisfied: numpy in /srv/conda/envs/notebook/lib/python3.7/site-packages (1.21.2)\n",
      "Requirement already satisfied: matplotlib in /srv/conda/envs/notebook/lib/python3.7/site-packages (3.4.3)\n",
      "Requirement already satisfied: pyparsing>=2.2.1 in /srv/conda/envs/notebook/lib/python3.7/site-packages (from matplotlib) (2.4.7)\n",
      "Requirement already satisfied: python-dateutil>=2.7 in /srv/conda/envs/notebook/lib/python3.7/site-packages (from matplotlib) (2.8.1)\n",
      "Requirement already satisfied: pillow>=6.2.0 in /srv/conda/envs/notebook/lib/python3.7/site-packages (from matplotlib) (8.3.1)\n",
      "Requirement already satisfied: cycler>=0.10 in /srv/conda/envs/notebook/lib/python3.7/site-packages (from matplotlib) (0.10.0)\n",
      "Requirement already satisfied: kiwisolver>=1.0.1 in /srv/conda/envs/notebook/lib/python3.7/site-packages (from matplotlib) (1.3.1)\n",
      "Requirement already satisfied: numpy>=1.16 in /srv/conda/envs/notebook/lib/python3.7/site-packages (from matplotlib) (1.21.2)\n",
      "Requirement already satisfied: six in /srv/conda/envs/notebook/lib/python3.7/site-packages (from cycler>=0.10->matplotlib) (1.15.0)\n"
     ]
    }
   ],
   "source": [
    "!pip3 install numpy\n",
    "!pip3 install matplotlib"
   ]
  },
  {
   "cell_type": "code",
   "execution_count": 2,
   "id": "attended-chart",
   "metadata": {},
   "outputs": [],
   "source": [
    "# Numpy para cálculos con álgebra lineal\n",
    "import numpy as np\n",
    "import math "
   ]
  },
  {
   "cell_type": "code",
   "execution_count": 3,
   "id": "moving-waters",
   "metadata": {},
   "outputs": [],
   "source": [
    "A = np.array([1, 4, -3])\n",
    "B = np.array([-2, 2, 1])\n",
    "C = np.array([3, -1, 4])"
   ]
  },
  {
   "cell_type": "markdown",
   "id": "premier-material",
   "metadata": {},
   "source": [
    "### 1. Escala de punto A en X,Y,Z por un factor de 1.372"
   ]
  },
  {
   "cell_type": "code",
   "execution_count": 4,
   "id": "offshore-tactics",
   "metadata": {},
   "outputs": [
    {
     "name": "stdout",
     "output_type": "stream",
     "text": [
      "from [ 1  4 -3  1] to [ 1.372  5.488 -4.116  1.   ]\n"
     ]
    }
   ],
   "source": [
    "def scaleMatrix(vector):\n",
    "  return np.diag([*vector, 1])\n",
    "\n",
    "# Get the new point\n",
    "A = np.array([1, 4, -3, 1])\n",
    "Q0 = np.array([1.372, 1.372, 1.372])\n",
    "Q1 = np.matmul(scaleMatrix(Q0), A)\n",
    "print('from {} to {}'.format(A, Q1))"
   ]
  },
  {
   "cell_type": "markdown",
   "id": "competent-nashville",
   "metadata": {},
   "source": [
    "### 1. Trasladar A con las coordenadas de B"
   ]
  },
  {
   "cell_type": "code",
   "execution_count": 5,
   "id": "powerful-circuit",
   "metadata": {},
   "outputs": [
    {
     "name": "stdout",
     "output_type": "stream",
     "text": [
      "[[ 1.  0.  0. -2.]\n",
      " [ 0.  1.  0.  2.]\n",
      " [ 0.  0.  1.  1.]\n",
      " [ 0.  0.  0.  1.]]\n",
      "from [ 1.372  5.488 -4.116  1.   ] to [-0.628  7.488 -3.116  1.   ]\n"
     ]
    }
   ],
   "source": [
    "def translationMatrix(vector):\n",
    "  matrix = np.identity(len(vector) + 1)\n",
    "  matrix[-1,:-1] = vector\n",
    "  return matrix.T\n",
    "\n",
    "print(translationMatrix(B))\n",
    "\n",
    "# Get the new point\n",
    "Q2 = np.matmul(translationMatrix(B), Q1)\n",
    "print('from {} to {}'.format(Q1, Q2))"
   ]
  },
  {
   "cell_type": "markdown",
   "id": "decreased-disaster",
   "metadata": {},
   "source": [
    "### 1. Rota el punto C, 37.2° con respecto al eje Y. Toma como punto pivote al punto Q"
   ]
  },
  {
   "cell_type": "code",
   "execution_count": 6,
   "id": "lightweight-graham",
   "metadata": {},
   "outputs": [
    {
     "name": "stdout",
     "output_type": "stream",
     "text": [
      "[[ 0.79652992  0.         -0.60459911  0.        ]\n",
      " [ 0.          1.          0.          0.        ]\n",
      " [ 0.60459911  0.          0.79652992  0.        ]\n",
      " [ 0.          0.          0.          1.        ]]\n",
      "Translated point to origin [ 3.628 -8.488  7.116  1.   ]\n",
      "Rotate with pivot [-1.41251676 -8.488       7.86159249  1.        ]\n",
      "Translated point [-2.04051676 -1.          4.74559249  1.        ]\n",
      "Translated point to origin [-1.41251676 -8.488       7.86159249  1.        ]\n",
      "Rotate with pivot [-5.87822372 -8.488       5.40798724  1.        ]\n",
      "Translated point [-6.50622372 -1.          2.29198724  1.        ]\n",
      "Translated point to origin [-5.87822372 -8.488       5.40798724  1.        ]\n",
      "Rotate with pivot [-7.95184535 -8.488       0.75365477  1.        ]\n",
      "Translated point [-8.57984535 -1.         -2.36234523  1.        ]\n",
      "Translated point to origin [-7.95184535 -8.488       0.75365477  1.        ]\n",
      "Rotate with pivot [-6.78954173 -8.488      -4.20737009  1.        ]\n",
      "Translated point [-7.41754173 -1.         -7.32337009  1.        ]\n",
      "Translated point to origin [-6.78954173 -8.488      -4.20737009  1.        ]\n",
      "Rotate with pivot [-2.86430089 -8.488      -7.45624707  1.        ]\n",
      "Translated point [ -3.49230089  -1.         -10.57224707   1.        ]\n",
      "Translated point to origin [-2.86430089 -8.488      -7.45624707  1.        ]\n",
      "Rotate with pivot [ 2.22653903 -8.488      -7.67087765  1.        ]\n",
      "Translated point [  1.59853903  -1.         -10.78687765   1.        ]\n",
      "Translated point to origin [ 2.22653903 -8.488      -7.67087765  1.        ]\n",
      "Rotate with pivot [ 6.41131079 -8.488      -4.76392002  1.        ]\n",
      "Translated point [ 5.78331079 -1.         -7.87992002  1.        ]\n",
      "Translated point to origin [ 6.41131079 -8.488      -4.76392002  1.        ]\n",
      "Rotate with pivot [ 7.98706269 -8.488       0.081668    1.        ]\n",
      "Translated point [ 7.35906269 -1.         -3.034332    1.        ]\n",
      "Translated point to origin [ 7.98706269 -8.488       0.081668    1.        ]\n",
      "Rotate with pivot [ 6.31255799 -8.488       4.89402204  1.        ]\n",
      "Translated point [ 5.68455799 -1.          1.77802204  1.        ]\n",
      "Translated point to origin [ 6.31255799 -8.488       4.89402204  1.        ]\n",
      "Rotate with pivot [ 2.0692199  -8.488       7.71480194  1.        ]\n",
      "Translated point [ 1.4412199  -1.          4.59880194  1.        ]\n",
      "Translated point to origin [ 2.0692199  -8.488       7.71480194  1.        ]\n",
      "Rotate with pivot [-3.01616686 -8.488       7.39611908  1.        ]\n",
      "Translated point [-3.64416686 -1.          4.28011908  1.        ]\n",
      "Translated point to origin [-3.01616686 -8.488       7.39611908  1.        ]\n",
      "Rotate with pivot [-6.87415419 -8.488       4.06765831  1.        ]\n",
      "Translated point [-7.50215419 -1.          0.95165831  1.        ]\n",
      "Translated point to origin [-6.87415419 -8.488       4.06765831  1.        ]\n",
      "Rotate with pivot [-7.93477209 -8.488      -0.916096    1.        ]\n",
      "Translated point [-8.56277209 -1.         -4.032096    1.        ]\n",
      "Translated point to origin [-7.93477209 -8.488      -0.916096    1.        ]\n",
      "Rotate with pivot [-5.76641253 -8.488      -5.52705406  1.        ]\n",
      "Translated point [-6.39441253 -1.         -8.64305406  1.        ]\n",
      "Translated point to origin [-5.76641253 -8.488      -5.52705406  1.        ]\n",
      "Rotate with pivot [-1.25146811 -8.488      -7.88883183  1.        ]\n",
      "Translated point [ -1.87946811  -1.         -11.00483183   1.        ]\n",
      "Translated point to origin [-1.25146811 -8.488      -7.88883183  1.        ]\n",
      "Rotate with pivot [ 3.77274895 -8.488      -7.04032708  1.        ]\n",
      "Translated point [  3.14474895  -1.         -10.15632708   1.        ]\n",
      "Translated point to origin [ 3.77274895 -8.488      -7.04032708  1.        ]\n",
      "Rotate with pivot [ 7.26168293 -8.488      -3.32683048  1.        ]\n",
      "Translated point [ 6.63368293 -1.         -6.44283048  1.        ]\n",
      "Translated point to origin [ 7.26168293 -8.488      -3.32683048  1.        ]\n",
      "Rotate with pivot [ 7.79554647 -8.488       1.74048707  1.        ]\n",
      "Translated point [ 7.16754647 -1.         -1.37551293  1.        ]\n",
      "Translated point to origin [ 7.79554647 -8.488       1.74048707  1.        ]\n",
      "Rotate with pivot [ 5.15708905 -8.488       6.09953052  1.        ]\n",
      "Translated point [ 4.52908905 -1.          2.98353052  1.        ]\n",
      "Translated point to origin [ 5.15708905 -8.488       6.09953052  1.        ]\n",
      "Rotate with pivot [ 0.42000497 -8.488       7.97643002  1.        ]\n",
      "Translated point [-0.20799503 -1.          4.86043002  1.        ]\n",
      "Translated point to origin [ 0.42000497 -8.488       7.97643002  1.        ]\n",
      "Rotate with pivot [-4.48799601 -8.488       6.60739978  1.        ]\n",
      "Translated point [-5.11599601 -1.          3.49139978  1.        ]\n",
      "Translated point to origin [-4.48799601 -8.488       6.60739978  1.        ]\n",
      "Rotate with pivot [-7.56965115 -8.488       2.54955319  1.        ]\n",
      "Translated point [-8.19765115 -1.         -0.56644681  1.        ]\n",
      "Translated point to origin [-7.56965115 -8.488       2.54955319  1.        ]\n",
      "Rotate with pivot [-7.57091121 -8.488      -2.54580899  1.        ]\n",
      "Translated point [-8.19891121 -1.         -5.66180899  1.        ]\n",
      "Translated point to origin [-7.57091121 -8.488      -2.54580899  1.        ]\n",
      "Rotate with pivot [-4.49126343 -8.488      -6.60517924  1.        ]\n",
      "Translated point [-5.11926343 -1.         -9.72117924  1.        ]\n",
      "Translated point to origin [-4.49126343 -8.488      -6.60517924  1.        ]\n",
      "Rotate with pivot [ 0.41605984 -8.488      -7.97663677  1.        ]\n",
      "Translated point [ -0.21194016  -1.         -11.09263677   1.        ]\n",
      "Translated point to origin [ 0.41605984 -8.488      -7.97663677  1.        ]\n",
      "Rotate with pivot [ 5.15407164 -8.488      -6.10208043  1.        ]\n",
      "Translated point [ 4.52607164 -1.         -9.21808043  1.        ]\n",
      "Translated point to origin [ 5.15407164 -8.488      -6.10208043  1.        ]\n",
      "Rotate with pivot [ 7.79468469 -8.488      -1.74434247  1.        ]\n",
      "Translated point [ 7.16668469 -1.         -4.86034247  1.        ]\n",
      "Translated point to origin [ 7.79468469 -8.488      -1.74434247  1.        ]\n",
      "Rotate with pivot [ 7.26332747 -8.488       3.3232385   1.        ]\n",
      "Translated point [ 6.63532747 -1.          0.2072385   1.        ]\n",
      "Translated point to origin [ 7.26332747 -8.488       3.3232385   1.        ]\n",
      "Rotate with pivot [ 3.77623058 -8.488       7.03846024  1.        ]\n",
      "Translated point [ 3.14823058 -1.          3.92246024  1.        ]\n",
      "Translated point to origin [ 3.77623058 -8.488       7.03846024  1.        ]\n",
      "Rotate with pivot [-1.2475662  -8.488       7.88944983  1.        ]\n",
      "Translated point [-1.8755662  -1.          4.77344983  1.        ]\n"
     ]
    },
    {
     "data": {
      "image/png": "[encoded data removed]",
      "text/plain": [
       "<Figure size 288x288 with 1 Axes>"
      ]
     },
     "metadata": {
      "needs_background": "light"
     },
     "output_type": "display_data"
    }
   ],
   "source": [
    "import matplotlib.pyplot as plt\n",
    "def rotationMatrix(angle_degrees, axis='x', dim=3):\n",
    "  angle = np.deg2rad(angle_degrees)\n",
    "  ii = np.cos(angle)\n",
    "  ji = np.sin(angle)\n",
    "  matrix = np.identity(dim + 1)\n",
    "  if axis == 'z':\n",
    "    matrix[0, 0] = ii\n",
    "    matrix[1, 1] = ii\n",
    "    matrix[0, 1] = -ji\n",
    "    matrix[1, 0] = ji\n",
    "  elif axis == 'y':\n",
    "    matrix[0, 0] = ii\n",
    "    matrix[2, 2] = ii\n",
    "    matrix[0, 2] = -ji\n",
    "    matrix[2, 0] = ji\n",
    "  else:\n",
    "    matrix[1, 1] = ii\n",
    "    matrix[2, 2] = ii\n",
    "    matrix[1, 2] = -ji\n",
    "    matrix[2, 1] = ji\n",
    "  return matrix\n",
    "\n",
    "print(rotationMatrix(37.2, 'y'))\n",
    "\n",
    "C = C = np.array([3, -1, 4, 1])\n",
    "pivot = Q2[:3]\n",
    "traM = translationMatrix(pivot)\n",
    "rotM = rotationMatrix(37.2, 'y')\n",
    "\n",
    "fig = plt.figure(figsize=(4,4))\n",
    "ax = fig.add_subplot(111, projection='3d')\n",
    "\n",
    "plt.ion()\n",
    "ax.scatter(0, 0, 0, c='k')\n",
    "ax.scatter(*pivot, c='m')\n",
    "ax.scatter(*Q0[:-1], c='r')\n",
    "\n",
    "Qaux = C\n",
    "for color in plt.cm.winter(np.linspace(0, 1, 30)):\n",
    "    # Translate from a point to the origin\n",
    "    Qaux = np.matmul(np.linalg.inv(traM), Qaux)\n",
    "    print(\"Translated point to origin\", Qaux)\n",
    "\n",
    "    # Rotate\n",
    "    Qaux = np.matmul(rotM, Qaux)\n",
    "    print(\"Rotate with pivot\", Qaux)\n",
    "\n",
    "    # Translate from a point to the origin\n",
    "    Qaux = np.matmul(traM, Qaux)\n",
    "    print(\"Translated point\", Qaux)\n",
    "\n",
    "    ax.scatter(*Qaux[:-1], color=color) \n",
    "\n",
    "plt.show()"
   ]
  },
  {
   "cell_type": "markdown",
   "id": "mechanical-juice",
   "metadata": {},
   "source": [
    "## 2. Considera una pirámide triangular regular. Su lado a = π y su altura h = √((2/3)a) La base de la pirámide está centrada en el punto D = (-2.345, -7.317, 1.328). "
   ]
  },
  {
   "cell_type": "markdown",
   "id": "freelance-watershed",
   "metadata": {},
   "source": [
    "### Encuentra todos los vértices de la pirámide."
   ]
  },
  {
   "cell_type": "code",
   "execution_count": 7,
   "id": "fifty-terminal",
   "metadata": {},
   "outputs": [
    {
     "name": "stdout",
     "output_type": "stream",
     "text": [
      "1.8137993642342178\n"
     ]
    }
   ],
   "source": [
    "#Encontrar la distancia entre la vertice y el punto central, es decir, el lado \"a\" de un tríangulo isócesles\n",
    "#que tiene como base uno de los lados del triángulo equilatero (pi).\n",
    "#La fórmula es a = sqrt(b^2/((1-cos 120)/2))\n",
    "# Cos 120 = -0.5\n",
    "b = math.sqrt((math.pi**2/(1+0.5))/2)\n",
    "print(b)"
   ]
  },
  {
   "cell_type": "code",
   "execution_count": 8,
   "id": "rocky-woman",
   "metadata": {},
   "outputs": [
    {
     "name": "stdout",
     "output_type": "stream",
     "text": [
      "from [-2.345 -7.317  1.328  1.   ] to [-2.345      -9.13079936  1.328       1.        ]\n"
     ]
    }
   ],
   "source": [
    "# Trasladando el punto central la distancia \"b\" para obtener uno de los vertices de la base del triángulo\n",
    "\n",
    "# Get the new point\n",
    "distance = np.array([0, -b, 0])\n",
    "D = np.array([-2.345, -7.317, 1.328, 1])\n",
    "V1 = np.matmul(translationMatrix(distance), D)\n",
    "print('from {} to {}'.format(D, V1))"
   ]
  },
  {
   "cell_type": "code",
   "execution_count": 9,
   "id": "unauthorized-segment",
   "metadata": {},
   "outputs": [
    {
     "name": "stdout",
     "output_type": "stream",
     "text": [
      "Translated point to origin [ 0.         -1.81379936  0.          1.        ]\n",
      "Rotate with pivot [1.57079633 0.90689968 0.         1.        ]\n",
      "Vertice 2 [-0.77420367 -6.41010032  1.328       1.        ]\n",
      "Translated point to origin [1.57079633 0.90689968 0.         1.        ]\n",
      "Rotate with pivot [-1.57079633  0.90689968  0.          1.        ]\n",
      "Vertice3 [-3.91579633 -6.41010032  1.328       1.        ]\n"
     ]
    }
   ],
   "source": [
    "# Para encontrar las otras vertices del triángulo equilatero, simplemente rotamos el primer vertice\n",
    "# respecto al eje Z con D como pivote\n",
    "\n",
    "pivot = D[:3]\n",
    "traM = translationMatrix(pivot)\n",
    "rotM = rotationMatrix(120, 'z')\n",
    "\n",
    "Qaux2 = V1\n",
    "\n",
    "# Translate from a point to the origin\n",
    "Qaux2 = np.matmul(np.linalg.inv(traM), Qaux2)\n",
    "print(\"Translated point to origin\", Qaux2)\n",
    "\n",
    "# Rotate\n",
    "Qaux2 = np.matmul(rotM, Qaux2)\n",
    "print(\"Rotate with pivot\", Qaux2)\n",
    "\n",
    "# Translate from a point to the origin\n",
    "V2 = np.matmul(traM, Qaux2)\n",
    "print(\"Vertice 2\", V2)\n",
    "\n",
    "Qaux3 = V2\n",
    "\n",
    "# Translate from a point to the origin\n",
    "Qaux3 = np.matmul(np.linalg.inv(traM), Qaux3)\n",
    "print(\"Translated point to origin\", Qaux3)\n",
    "\n",
    "# Rotate\n",
    "Qaux3 = np.matmul(rotM, Qaux3)\n",
    "print(\"Rotate with pivot\", Qaux3)\n",
    "\n",
    "# Translate from a point to the origin\n",
    "V3 = np.matmul(traM, Qaux3)\n",
    "print(\"Vertice3\", V3)\n",
    " "
   ]
  },
  {
   "cell_type": "code",
   "execution_count": 10,
   "id": "leading-trainer",
   "metadata": {},
   "outputs": [
    {
     "name": "stdout",
     "output_type": "stream",
     "text": [
      "from [-2.345 -7.317  1.328  1.   ] to [-2.345      -7.317       2.77520251  1.        ]\n"
     ]
    }
   ],
   "source": [
    "# Para obtener el último vértice simplemente trasladamos el punto central la distancia \"h\" en el eje Z\n",
    "# Get the new point\n",
    "h = math.sqrt((2/3)*math.pi)\n",
    "h_distance = np.array([0, 0, h])\n",
    "V4 = np.matmul(translationMatrix(h_distance), D)\n",
    "print('from {} to {}'.format(D, V4))"
   ]
  },
  {
   "cell_type": "markdown",
   "id": "chemical-coaching",
   "metadata": {},
   "source": [
    "### Encuentra la nueva posición de cada vértice cuando la pirámide es rotada con respecto al eje Z por -23°. Usa como pivote el centroide de la pirámide (el centroide es el promedio de cada componente de cada vértice)."
   ]
  },
  {
   "cell_type": "code",
   "execution_count": 11,
   "id": "functional-martin",
   "metadata": {},
   "outputs": [
    {
     "name": "stdout",
     "output_type": "stream",
     "text": [
      "[-2.345      -7.317       1.68980063  1.        ]\n",
      "Translated point to origin [ 0.         -1.81379936 -0.36180063  1.        ]\n",
      "Rotate with pivot [-0.70870787 -1.66961112 -0.36180063  1.        ]\n",
      "V1 rotated [-3.05370787 -8.98661112  1.328       1.        ]\n",
      "Translated point to origin [ 1.57079633  0.90689968 -0.36180063  1.        ]\n",
      "Rotate with pivot [ 1.80027958  0.22104654 -0.36180063  1.        ]\n",
      "V2 rotated [-0.54472042 -7.09595346  1.328       1.        ]\n",
      "Translated point to origin [-1.57079633  0.90689968 -0.36180063  1.        ]\n",
      "Rotate with pivot [-1.09157171  1.44856458 -0.36180063  1.        ]\n",
      "V3 rotated [-3.43657171 -5.86843542  1.328       1.        ]\n"
     ]
    }
   ],
   "source": [
    "# El centroide se encuentra a una distancia de la base igual a: (1/4)*h\n",
    "centroide_distance = (1/4)*h\n",
    "centroide_vec = h_distance = np.array([0, 0, centroide_distance])\n",
    "centroide_coor = np.matmul(translationMatrix(centroide_vec), D)\n",
    "print(centroide_coor)\n",
    "\n",
    "pivot = centroide_coor[:3]\n",
    "traM = translationMatrix(pivot)\n",
    "rotM = rotationMatrix(-23, 'z')\n",
    "\n",
    "Qaux_V1 = V1\n",
    "\n",
    "# Translate from a point to the origin\n",
    "Qaux_V1 = np.matmul(np.linalg.inv(traM), Qaux_V1)\n",
    "print(\"Translated point to origin\", Qaux_V1)\n",
    "\n",
    "# Rotate\n",
    "Qaux_V1 = np.matmul(rotM, Qaux_V1)\n",
    "print(\"Rotate with pivot\", Qaux_V1)\n",
    "\n",
    "# Translate from a point to the origin\n",
    "V1_Rotated = np.matmul(traM, Qaux_V1)\n",
    "print(\"V1 rotated\", V1_Rotated)\n",
    "\n",
    "Qaux_V2 = V2\n",
    "\n",
    "# Translate from a point to the origin\n",
    "Qaux_V2 = np.matmul(np.linalg.inv(traM), Qaux_V2)\n",
    "print(\"Translated point to origin\", Qaux_V2)\n",
    "\n",
    "# Rotate\n",
    "Qaux_V2 = np.matmul(rotM, Qaux_V2)\n",
    "print(\"Rotate with pivot\", Qaux_V2)\n",
    "\n",
    "# Translate from a point to the origin\n",
    "V2_Rotated = np.matmul(traM, Qaux_V2)\n",
    "print(\"V2 rotated\", V2_Rotated)\n",
    "\n",
    "Qaux_V3 = V3\n",
    "\n",
    "# Translate from a point to the origin\n",
    "Qaux_V3 = np.matmul(np.linalg.inv(traM), Qaux_V3)\n",
    "print(\"Translated point to origin\", Qaux_V3)\n",
    "\n",
    "# Rotate\n",
    "Qaux_V3 = np.matmul(rotM, Qaux_V3)\n",
    "print(\"Rotate with pivot\", Qaux_V3)\n",
    "\n",
    "# Translate from a point to the origin\n",
    "V3_Rotated = np.matmul(traM, Qaux_V3)\n",
    "print(\"V3 rotated\", V3_Rotated)\n",
    "\n",
    "# El último vértice queda igual al ser rotado\n"
   ]
  },
  {
   "cell_type": "code",
   "execution_count": null,
   "id": "failing-challenge",
   "metadata": {},
   "outputs": [],
   "source": []
  }
 ],
 "metadata": {
  "kernelspec": {
   "display_name": "Python 3",
   "language": "python",
   "name": "python3"
  },
  "language_info": {
   "codemirror_mode": {
    "name": "ipython",
    "version": 3
   },
   "file_extension": ".py",
   "mimetype": "text/x-python",
   "name": "python",
   "nbconvert_exporter": "python",
   "pygments_lexer": "ipython3",
   "version": "3.7.10"
  }
 },
 "nbformat": 4,
 "nbformat_minor": 5
}
