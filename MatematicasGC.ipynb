{
 "nbformat": 4,
 "nbformat_minor": 0,
 "metadata": {
  "colab": {
   "name": "MatematicasGC.ipynb",
   "provenance": [],
   "collapsed_sections": []
  },
  "kernelspec": {
   "name": "python3",
   "display_name": "Python 3"
  },
  "language_info": {
   "name": "python"
  }
 },
 "cells": [
  {
   "cell_type": "markdown",
   "metadata": {
    "id": "zQ_QhkQe-hz9"
   },
   "source": [
    "# Ejemplos interactivos para acompañar las diapositivas 2-2_TC2008B_MatematicasGC.pdf\n",
    "\n",
    "Por Jorge M. Cruz-Duarte (jorge.cruz@tec.mx)"
   ]
  },
  {
   "cell_type": "code",
   "metadata": {
    "id": "amKNhq0JQxZN"
   },
   "source": [
    "# Numpy para cálculos con álgebra lineal\n",
    "import numpy as np"
   ],
   "execution_count": 40,
   "outputs": []
  },
  {
   "cell_type": "markdown",
   "metadata": {
    "id": "xoX4_IdvR-Sb"
   },
   "source": [
    "## Ejemplos con vectores y puntos"
   ]
  },
  {
   "cell_type": "markdown",
   "metadata": {
    "id": "gopYN4C_SUPH"
   },
   "source": [
    "Vectores y puntos"
   ]
  },
  {
   "cell_type": "code",
   "metadata": {
    "colab": {
     "base_uri": "https://localhost:8080/"
    },
    "id": "f6Yhp-NsSRUC",
    "outputId": "26be148f-6326-4b23-e706-c1256ce90d63"
   },
   "source": [
    "A = np.array([1, 2, 0])\n",
    "B = np.array([2, 1, 0])\n",
    "v = B - A\n",
    "print(v)\n",
    "\n",
    "print(np.array([0, 0, 0]) - np.array([1, -1, 0]))"
   ],
   "execution_count": 41,
   "outputs": [
    {
     "output_type": "stream",
     "text": [
      "[ 1 -1  0]\n",
      "[-1  1  0]\n"
     ],
     "name": "stdout"
    }
   ]
  },
  {
   "cell_type": "markdown",
   "metadata": {
    "id": "Is2BGPxHThCT"
   },
   "source": [
    "Vectores canónicos"
   ]
  },
  {
   "cell_type": "code",
   "metadata": {
    "colab": {
     "base_uri": "https://localhost:8080/"
    },
    "id": "r3BvMNQJTsiB",
    "outputId": "4e26dc91-aabb-49aa-cdbf-7450883bb7ff"
   },
   "source": [
    "mag_v = np.sqrt(np.sum(v ** 2))\n",
    "print(mag_v)\n",
    "\n",
    "print(np.linalg.norm(v))\n",
    "\n",
    "vu = v / mag_v\n",
    "print(vu)"
   ],
   "execution_count": 42,
   "outputs": [
    {
     "output_type": "stream",
     "text": [
      "1.4142135623730951\n",
      "1.4142135623730951\n",
      "[ 0.70710678 -0.70710678  0.        ]\n"
     ],
     "name": "stdout"
    }
   ]
  },
  {
   "cell_type": "markdown",
   "metadata": {
    "id": "SQNR6vnrU8-3"
   },
   "source": [
    "Suma/resta, producto con un escalar"
   ]
  },
  {
   "cell_type": "code",
   "metadata": {
    "colab": {
     "base_uri": "https://localhost:8080/"
    },
    "id": "hrkUcrOuVAkG",
    "outputId": "6a830857-fa22-4907-d315-ae09a1fb7644"
   },
   "source": [
    "u = np.random.rand(3)\n",
    "print(u)\n",
    "\n",
    "print(u + v)\n",
    "\n",
    "alpha = 2\n",
    "print(alpha * u)"
   ],
   "execution_count": 43,
   "outputs": [
    {
     "output_type": "stream",
     "text": [
      "[0.8647978  0.64113774 0.67881887]\n",
      "[ 1.8647978  -0.35886226  0.67881887]\n",
      "[1.72959559 1.28227548 1.35763774]\n"
     ],
     "name": "stdout"
    }
   ]
  },
  {
   "cell_type": "markdown",
   "metadata": {
    "id": "5s19adlhVoC-"
   },
   "source": [
    "Producto punto / Producto Interior"
   ]
  },
  {
   "cell_type": "code",
   "metadata": {
    "colab": {
     "base_uri": "https://localhost:8080/"
    },
    "id": "gIcPVNrGVsDZ",
    "outputId": "cc877a65-6617-43ec-f97d-d774b81e0d93"
   },
   "source": [
    "# Dot product\n",
    "u_dot_v = np.dot(u, v)\n",
    "print(u_dot_v)\n",
    "\n",
    "# Not-dot product\n",
    "u_notdot_v = u * v\n",
    "print(u_notdot_v)\n",
    "\n",
    "# Angle\n",
    "mag_u = np.linalg.norm(u)\n",
    "cos_theta = u_dot_v / (mag_u * mag_v)\n",
    "print(cos_theta)\n",
    "\n",
    "theta = np.arccos(cos_theta)\n",
    "print(theta) # degrees?\n",
    "\n",
    "print(np.arccos(np.sum(u * v)))"
   ],
   "execution_count": 44,
   "outputs": [
    {
     "output_type": "stream",
     "text": [
      "0.22366005605508854\n",
      "[ 0.8647978  -0.64113774  0.        ]\n",
      "0.12426602361806541\n",
      "1.4462082398796463\n",
      "1.3452282786861356\n"
     ],
     "name": "stdout"
    }
   ]
  },
  {
   "cell_type": "markdown",
   "metadata": {
    "id": "U82qreaB8ELL"
   },
   "source": [
    "Producto cruz"
   ]
  },
  {
   "cell_type": "code",
   "metadata": {
    "colab": {
     "base_uri": "https://localhost:8080/"
    },
    "id": "bgsDeJy88F67",
    "outputId": "f9dc44bd-1801-4531-b41c-5257be3da43e"
   },
   "source": [
    "u = [2, 0, 1]\n",
    "v = [1, -1, 3]\n",
    "\n",
    "u_cross_v = np.cross(u, v)\n",
    "print(u_cross_v)"
   ],
   "execution_count": 45,
   "outputs": [
    {
     "output_type": "stream",
     "text": [
      "[ 1 -5 -2]\n"
     ],
     "name": "stdout"
    }
   ]
  },
  {
   "cell_type": "markdown",
   "metadata": {
    "id": "GaA9ha3K9FKU"
   },
   "source": [
    "Aplicaciones: Ecuaciones Paramétricas"
   ]
  },
  {
   "cell_type": "code",
   "metadata": {
    "colab": {
     "base_uri": "https://localhost:8080/",
     "height": 279
    },
    "id": "vzrLlBPT9Jx2",
    "outputId": "3879cb59-dfc0-47f3-824a-dff24d00f2d2"
   },
   "source": [
    "import matplotlib.pyplot as plt\n",
    "x = np.linspace(0, 16, 50)\n",
    "y = np.sqrt(x)\n",
    "plt.figure()\n",
    "plt.plot(x, y)\n",
    "plt.xlabel('x'), plt.ylabel('y = f(x)')\n",
    "plt.show()"
   ],
   "execution_count": 46,
   "outputs": [
    {
     "output_type": "display_data",
     "data": {
      "image/png": "[encoded data removed]",
      "text/plain": [
       "<Figure size 432x288 with 1 Axes>"
      ]
     },
     "metadata": {
      "tags": [],
      "needs_background": "light"
     }
    }
   ]
  },
  {
   "cell_type": "code",
   "metadata": {
    "colab": {
     "base_uri": "https://localhost:8080/",
     "height": 279
    },
    "id": "OhKxml_i93fb",
    "outputId": "359ec4df-8799-412c-c337-3c39876e42d8"
   },
   "source": [
    "t = np.linspace(0, 16, 50)\n",
    "x = t\n",
    "y = np.sqrt(x)\n",
    "plt.figure()\n",
    "plt.plot(x, y)\n",
    "plt.xlabel('x = g(t)'), plt.ylabel('y = f(t)')\n",
    "plt.show()"
   ],
   "execution_count": 47,
   "outputs": [
    {
     "output_type": "display_data",
     "data": {
      "image/png": "[encoded data removed]",
      "text/plain": [
       "<Figure size 432x288 with 1 Axes>"
      ]
     },
     "metadata": {
      "tags": [],
      "needs_background": "light"
     }
    }
   ]
  },
  {
   "cell_type": "markdown",
   "metadata": {
    "id": "ZAQCW7U1-O-x"
   },
   "source": [
    "Aplicaciones: Movimiento con vectores"
   ]
  },
  {
   "cell_type": "code",
   "metadata": {
    "colab": {
     "base_uri": "https://localhost:8080/"
    },
    "id": "NjuP3SXr-SY0",
    "outputId": "efcf89ae-d73e-4624-acf2-f069138e0326"
   },
   "source": [
    "# Cardumen\n",
    "P0 = np.array([21, 32, 10]) # m\n",
    "P1 = np.array([65, 10, 7]) # m\n",
    "delta_t = 34 # s\n",
    "\n",
    "velocidad = (P1 - P0) / delta_t\n",
    "print(velocidad)\n",
    "\n",
    "rapidez = np.linalg.norm(velocidad)\n",
    "print(rapidez)"
   ],
   "execution_count": 48,
   "outputs": [
    {
     "output_type": "stream",
     "text": [
      "[ 1.29411765 -0.64705882 -0.08823529]\n",
      "1.4495554741590126\n"
     ],
     "name": "stdout"
    }
   ]
  },
  {
   "cell_type": "markdown",
   "metadata": {
    "id": "XnpeMQ8vAFTY"
   },
   "source": [
    "Aplicaciones: Líneas"
   ]
  },
  {
   "cell_type": "code",
   "metadata": {
    "colab": {
     "base_uri": "https://localhost:8080/"
    },
    "id": "4H_Gq9gNAJPh",
    "outputId": "774d1cc3-68a8-4018-c220-9f41de84d03d"
   },
   "source": [
    "A = np.array([1, 2, 3])\n",
    "B = np.array([0, 1, 6])\n",
    "P_func = lambda t: A + t * (B - A)\n",
    "\n",
    "print('P(0) = {}'.format(P_func(0)))\n",
    "print('P(1) = {}'.format(P_func(1)))"
   ],
   "execution_count": 49,
   "outputs": [
    {
     "output_type": "stream",
     "text": [
      "P(0) = [1 2 3]\n",
      "P(1) = [0 1 6]\n"
     ],
     "name": "stdout"
    }
   ]
  },
  {
   "cell_type": "markdown",
   "metadata": {
    "id": "izf2fhchHNJ4"
   },
   "source": [
    "Aplicaciones: Rayo reflejado"
   ]
  },
  {
   "cell_type": "code",
   "metadata": {
    "colab": {
     "base_uri": "https://localhost:8080/",
     "height": 269
    },
    "id": "n5WuCmBuHPiY",
    "outputId": "98b5d321-bfe2-4b14-9ef5-d588a8939917"
   },
   "source": [
    "origin = np.array([[0, 0],[0, 0]]) # origin point\n",
    "vector = np.array([1, 2])\n",
    "normal = np.array([0, 1])\n",
    "\n",
    "paralelo = normal * np.dot(normal, vector)\n",
    "perpendicular = vector - paralelo\n",
    "reflejado = paralelo - perpendicular\n",
    "\n",
    "ax = plt.axes()\n",
    "plt.ion()\n",
    "\n",
    "plt.quiver(*origin, *vector, color='k', scale=4)\n",
    "plt.quiver(*origin, *paralelo, color='b', scale=4)\n",
    "plt.quiver(*origin, *normal, color='r', scale=4)\n",
    "plt.quiver(*origin, *reflejado, color='g', scale=4)\n",
    "plt.quiver(*origin, *perpendicular, color='m', scale=4)\n",
    "\n",
    "plt.ioff()\n",
    "plt.ylim([-0.01, 0.1])\n",
    "plt.xlim([-0.03, 0.03])\n",
    "plt.show()"
   ],
   "execution_count": 50,
   "outputs": [
    {
     "output_type": "display_data",
     "data": {
      "image/png": "[encoded data removed]",
      "text/plain": [
       "<Figure size 432x288 with 1 Axes>"
      ]
     },
     "metadata": {
      "tags": [],
      "needs_background": "light"
     }
    }
   ]
  },
  {
   "cell_type": "markdown",
   "metadata": {
    "id": "6gqXMBDU5woO"
   },
   "source": [
    "## Ejemplos con transformaciones y matrices"
   ]
  },
  {
   "cell_type": "markdown",
   "metadata": {
    "id": "cjyKftJa5-6Y"
   },
   "source": [
    "Multiplicacióón de matrix-vector"
   ]
  },
  {
   "cell_type": "code",
   "metadata": {
    "colab": {
     "base_uri": "https://localhost:8080/"
    },
    "id": "6BDwgBOa50TT",
    "outputId": "77d99a1a-661a-49bb-fb10-d66d91096000"
   },
   "source": [
    "M = np.matrix([[3, 7], [12, 98]])\n",
    "v = np.array([4, 6])\n",
    "\n",
    "# Old fashion\n",
    "Mv = np.zeros((1, 2))\n",
    "for i in range(M.shape[0]):\n",
    "  for j in range(M.shape[1]):\n",
    "    Mv[0][i] += M[i,j] * v[j]\n",
    "print(Mv)\n",
    "\n",
    "# New fashion\n",
    "print(np.matmul(M, v))\n"
   ],
   "execution_count": 51,
   "outputs": [
    {
     "output_type": "stream",
     "text": [
      "[[ 54. 636.]]\n",
      "[[ 54 636]]\n"
     ],
     "name": "stdout"
    }
   ]
  },
  {
   "cell_type": "code",
   "metadata": {
    "colab": {
     "base_uri": "https://localhost:8080/"
    },
    "id": "L10G0NvM7vWY",
    "outputId": "a9bc626b-72a0-4c5c-bf9e-99edcd86721a"
   },
   "source": [
    "# Other example\n",
    "M2 = [[2, 4, 2], \n",
    "      [8, 2, 1], \n",
    "      [4, 2, 8]]\n",
    "v2 = [4, 10, 2]\n",
    "\n",
    "Mv2 = np.matmul(M2, v2)\n",
    "print(Mv2)"
   ],
   "execution_count": 52,
   "outputs": [
    {
     "output_type": "stream",
     "text": [
      "[52 54 52]\n"
     ],
     "name": "stdout"
    }
   ]
  },
  {
   "cell_type": "markdown",
   "metadata": {
    "id": "PEMAJ_G78aSw"
   },
   "source": [
    "Traslación Homogénea"
   ]
  },
  {
   "cell_type": "code",
   "metadata": {
    "colab": {
     "base_uri": "https://localhost:8080/"
    },
    "id": "oqsx1HR08dav",
    "outputId": "45ef36b7-7347-42af-ed1b-bc42d948ba32"
   },
   "source": [
    "def translationMatrix(vector):\n",
    "  matrix = np.identity(len(vector) + 1)\n",
    "  matrix[-1,:-1] = vector\n",
    "  return matrix.T\n",
    "\n",
    "print(translationMatrix([2, 3, 4]))\n",
    "\n",
    "# Get the new point\n",
    "Q0 = np.array([1, 2, 3, 1])\n",
    "Q1 = np.matmul(translationMatrix([2, 3, 4]), Q0)\n",
    "print('from {} to {}'.format(Q0, Q1))"
   ],
   "execution_count": 53,
   "outputs": [
    {
     "output_type": "stream",
     "text": [
      "[[1. 0. 0. 2.]\n",
      " [0. 1. 0. 3.]\n",
      " [0. 0. 1. 4.]\n",
      " [0. 0. 0. 1.]]\n",
      "from [1 2 3 1] to [3. 5. 7. 1.]\n"
     ],
     "name": "stdout"
    }
   ]
  },
  {
   "cell_type": "markdown",
   "metadata": {
    "id": "alBM9EStCM52"
   },
   "source": [
    "Escala Homogénea"
   ]
  },
  {
   "cell_type": "code",
   "metadata": {
    "colab": {
     "base_uri": "https://localhost:8080/"
    },
    "id": "bEf8ybjqAWx_",
    "outputId": "72e380fb-fa85-4ba0-ebd8-877e440535cb"
   },
   "source": [
    "def scaleMatrix(vector):\n",
    "  return np.diag([*vector, 1])\n",
    "\n",
    "print(scaleMatrix([2, 3, 4]))\n",
    "\n",
    "# Get the new point\n",
    "Q0 = np.array([1, 2, 3, 1])\n",
    "Q1 = np.matmul(scaleMatrix([2, 3, 4]), Q0)\n",
    "print('from {} to {}'.format(Q0, Q1))"
   ],
   "execution_count": 54,
   "outputs": [
    {
     "output_type": "stream",
     "text": [
      "[[2 0 0 0]\n",
      " [0 3 0 0]\n",
      " [0 0 4 0]\n",
      " [0 0 0 1]]\n",
      "from [1 2 3 1] to [ 2  6 12  1]\n"
     ],
     "name": "stdout"
    }
   ]
  },
  {
   "cell_type": "markdown",
   "metadata": {
    "id": "96AKteomCP53"
   },
   "source": [
    "Rotación Homogénea"
   ]
  },
  {
   "cell_type": "code",
   "metadata": {
    "colab": {
     "base_uri": "https://localhost:8080/"
    },
    "id": "LG_cIEaeCTZM",
    "outputId": "15183c42-4876-4334-b615-da959936d2d2"
   },
   "source": [
    "def rotationMatrix(angle_degrees, axis='x', dim=3):\n",
    "  angle = np.deg2rad(angle_degrees)\n",
    "  ii = np.cos(angle)\n",
    "  ji = np.sin(angle)\n",
    "  matrix = np.identity(dim + 1)\n",
    "  if axis == 'z':\n",
    "    matrix[0, 0] = ii\n",
    "    matrix[1, 1] = ii\n",
    "    matrix[0, 1] = -ji\n",
    "    matrix[1, 0] = ji\n",
    "  elif axis == 'y':\n",
    "    matrix[0, 0] = ii\n",
    "    matrix[2, 2] = ii\n",
    "    matrix[0, 2] = -ji\n",
    "    matrix[2, 0] = ji\n",
    "  else:\n",
    "    matrix[1, 1] = ii\n",
    "    matrix[2, 2] = ii\n",
    "    matrix[1, 2] = -ji\n",
    "    matrix[2, 1] = ji\n",
    "  return matrix\n",
    "\n",
    "print(rotationMatrix(15))\n",
    "\n",
    "# Get the new point\n",
    "Q0 = np.array([1, 0, 0, 1])\n",
    "Q1 = np.matmul(rotationMatrix(90), Q0)\n",
    "print('from {} to {}'.format(Q0, Q1))"
   ],
   "execution_count": 55,
   "outputs": [
    {
     "output_type": "stream",
     "text": [
      "[[ 1.          0.          0.          0.        ]\n",
      " [ 0.          0.96592583 -0.25881905  0.        ]\n",
      " [ 0.          0.25881905  0.96592583  0.        ]\n",
      " [ 0.          0.          0.          1.        ]]\n",
      "from [1 0 0 1] to [1. 0. 0. 1.]\n"
     ],
     "name": "stdout"
    }
   ]
  },
  {
   "cell_type": "code",
   "metadata": {
    "colab": {
     "base_uri": "https://localhost:8080/",
     "height": 248
    },
    "id": "sQ5sK_i2H3rZ",
    "outputId": "025ec00f-d6ed-4072-b85d-a8ead66bfc8a"
   },
   "source": [
    "# Viz\n",
    "from mpl_toolkits.mplot3d import Axes3D\n",
    "fig = plt.figure(figsize=(4,4))\n",
    "ax = fig.add_subplot(111, projection='3d')\n",
    "\n",
    "plt.ion()\n",
    "ax.scatter(0, 0, 0, c='k')\n",
    "ax.scatter(*Q0[:-1], c='r')\n",
    "\n",
    "Qaux = Q0\n",
    "for color in plt.cm.winter(np.linspace(0, 1, 30)):\n",
    "  Qaux = np.matmul(rotationMatrix(10, 'z'), Qaux)\n",
    "  ax.scatter(*Qaux[:-1], color=color) \n",
    "\n",
    "plt.show()"
   ],
   "execution_count": 56,
   "outputs": [
    {
     "output_type": "display_data",
     "data": {
      "image/png": "[encoded data removed]",
      "text/plain": [
       "<Figure size 288x288 with 1 Axes>"
      ]
     },
     "metadata": {
      "tags": [],
      "needs_background": "light"
     }
    }
   ]
  },
  {
   "cell_type": "markdown",
   "metadata": {
    "id": "_771Hmdk2SWf"
   },
   "source": [
    "Rotación alrededor de un punto pivote"
   ]
  },
  {
   "cell_type": "code",
   "metadata": {
    "colab": {
     "base_uri": "https://localhost:8080/",
     "height": 248
    },
    "id": "tX3SGLf22U_v",
    "outputId": "62707b41-9430-49a0-c960-470c0b663a9f"
   },
   "source": [
    "Q0 = np.array([1, 0, 0, 1])\n",
    "pivot = [0.6, 0.1, 0.1]\n",
    "traM = translationMatrix(pivot)\n",
    "rotM = rotationMatrix(10, 'z')\n",
    "\n",
    "fig = plt.figure(figsize=(4,4))\n",
    "ax = fig.add_subplot(111, projection='3d')\n",
    "\n",
    "plt.ion()\n",
    "ax.scatter(0, 0, 0, c='k')\n",
    "ax.scatter(*pivot, c='m')\n",
    "ax.scatter(*Q0[:-1], c='r')\n",
    "\n",
    "Qaux = Q0\n",
    "for color in plt.cm.winter(np.linspace(0, 1, 30)):\n",
    "  # Translate from a point to the origin\n",
    "  Qaux = np.matmul(np.linalg.inv(traM), Qaux)\n",
    "\n",
    "  # Rotate\n",
    "  Qaux = np.matmul(rotM, Qaux)\n",
    "\n",
    "  # Translate from a point to the origin\n",
    "  Qaux = np.matmul(traM, Qaux)\n",
    "\n",
    "  ax.scatter(*Qaux[:-1], color=color) \n",
    "\n",
    "plt.show()"
   ],
   "execution_count": 57,
   "outputs": [
    {
     "output_type": "display_data",
     "data": {
      "image/png": "[encoded data removed]",
      "text/plain": [
       "<Figure size 288x288 with 1 Axes>"
      ]
     },
     "metadata": {
      "tags": [],
      "needs_background": "light"
     }
    }
   ]
  },
  {
   "cell_type": "markdown",
   "metadata": {
    "id": "GVntR94C5hI_"
   },
   "source": [
    "Ejemplo adiciona: ¿qué pasa si se incluye la escala?"
   ]
  },
  {
   "cell_type": "code",
   "metadata": {
    "colab": {
     "base_uri": "https://localhost:8080/",
     "height": 248
    },
    "id": "Ripc-WV75miR",
    "outputId": "656d4e08-0eb9-4316-bad0-d34fb8cd9c43"
   },
   "source": [
    "scaM = scaleMatrix([0.95, 0.95, 0.95])\n",
    "\n",
    "fig = plt.figure(figsize=(4,4))\n",
    "ax = fig.add_subplot(111, projection='3d')\n",
    "\n",
    "plt.ion()\n",
    "ax.scatter(0, 0, 0, c='k')\n",
    "ax.scatter(*pivot, c='m')\n",
    "ax.scatter(*Q0[:-1], c='r')\n",
    "\n",
    "Qaux = Q0\n",
    "for color in plt.cm.winter(np.linspace(0, 1, 50)):\n",
    "  # Translate from a point to the origin\n",
    "  Qaux = np.matmul(np.linalg.inv(traM), Qaux)  \n",
    "\n",
    "  # Rotate\n",
    "  Qaux = np.matmul(rotM, Qaux)\n",
    "\n",
    "  # Scale (uncomment next line)\n",
    "  # Qaux = np.matmul(scaM, Qaux)\n",
    "\n",
    "  # Translate from a point to the origin\n",
    "  Qaux = np.matmul(traM, Qaux)\n",
    "\n",
    "  # Scale (comment next line)\n",
    "  Qaux = np.matmul(scaM, Qaux)\n",
    "  \n",
    "  ax.scatter(*Qaux[:-1], color=color) \n",
    "\n",
    "plt.show()"
   ],
   "execution_count": 66,
   "outputs": [
    {
     "output_type": "display_data",
     "data": {
      "image/png": "[encoded data removed]",
      "text/plain": [
       "<Figure size 288x288 with 1 Axes>"
      ]
     },
     "metadata": {
      "tags": [],
      "needs_background": "light"
     }
    }
   ]
  },
  {
   "cell_type": "markdown",
   "metadata": {
    "id": "H-RLyLDD7Zov"
   },
   "source": [
    "Ejemplo: Imagen 100 por 100"
   ]
  },
  {
   "cell_type": "code",
   "metadata": {
    "colab": {
     "base_uri": "https://localhost:8080/"
    },
    "id": "qkiqvSLd7fZr",
    "outputId": "0b2eb5fe-ecc6-4e3a-c588-80a739605e26"
   },
   "source": [
    "w = 100 # ancho\n",
    "h = 100 # alto\n",
    "\n",
    "M2 = translationMatrix([w/2, h/2])\n",
    "M1 = np.linalg.inv(M2)\n",
    "R30 = rotationMatrix(30, 'z', 2)\n",
    "\n",
    "print('M1 = {}'.format(M1))\n",
    "print('M2 = {}'.format(M2))\n",
    "print('R30 = {}'.format(R30))\n",
    "\n",
    "R30M1 = np.matmul(R30, M1)\n",
    "print('R30M1 = {}'.format(R30M1))\n",
    "\n",
    "M = np.matmul(M2, R30M1)\n",
    "print('M = {}'.format(M))"
   ],
   "execution_count": 64,
   "outputs": [
    {
     "output_type": "stream",
     "text": [
      "M1 = [[  1.   0. -50.]\n",
      " [  0.   1. -50.]\n",
      " [  0.   0.   1.]]\n",
      "M2 = [[ 1.  0. 50.]\n",
      " [ 0.  1. 50.]\n",
      " [ 0.  0.  1.]]\n",
      "R30 = [[ 0.8660254 -0.5        0.       ]\n",
      " [ 0.5        0.8660254  0.       ]\n",
      " [ 0.         0.         1.       ]]\n",
      "R30M1 = [[  0.8660254   -0.5        -18.30127019]\n",
      " [  0.5          0.8660254  -68.30127019]\n",
      " [  0.           0.           1.        ]]\n",
      "M = [[  0.8660254   -0.5         31.69872981]\n",
      " [  0.5          0.8660254  -18.30127019]\n",
      " [  0.           0.           1.        ]]\n"
     ],
     "name": "stdout"
    }
   ]
  },
  {
   "cell_type": "markdown",
   "metadata": {
    "id": "H8nPNijJ_MlS"
   },
   "source": [
    "## Ejercicios"
   ]
  },
  {
   "cell_type": "markdown",
   "metadata": {
    "id": "iYq0xg5d_4r0"
   },
   "source": [
    "Encuentra el ángulo (en grados) que existe entre los vectores: "
   ]
  },
  {
   "cell_type": "code",
   "metadata": {
    "id": "_mJgyKRs_WMr"
   },
   "source": [
    "# Datos:\n",
    "u = [1.077, 4.501, 7.523]\n",
    "v = [-6.530, -1.382, 2.369]\n",
    "\n",
    "# angle(u, v) = ???"
   ],
   "execution_count": null,
   "outputs": []
  },
  {
   "cell_type": "markdown",
   "metadata": {
    "id": "Q9T18baoAG6_"
   },
   "source": [
    "Encuentra el producto cruz entre los vectores:"
   ]
  },
  {
   "cell_type": "code",
   "metadata": {
    "id": "_FLWo2e-AMu-"
   },
   "source": [
    "# Datos:\n",
    "u = [1.077, 4.501, 7.523]\n",
    "v = [-6.530, -1.382, 2.369]\n",
    "\n",
    "# u x v = ???"
   ],
   "execution_count": null,
   "outputs": []
  },
  {
   "cell_type": "markdown",
   "metadata": {
    "id": "2B91Sc5LAaae"
   },
   "source": [
    "Multiplicación de matrices"
   ]
  },
  {
   "cell_type": "code",
   "metadata": {
    "id": "XSrSH72tAihN"
   },
   "source": [
    "# Datos:\n",
    "M1 = [[7, 2, 2],\n",
    "      [6, 1, 1],\n",
    "      [0, 6, -2]]\n",
    "M2 = [[6, 7, 6],\n",
    "      [-2, 3, 2],\n",
    "      [5, -1, -2]]\n",
    "\n",
    "# M1 * M2 = ???"
   ],
   "execution_count": null,
   "outputs": []
  },
  {
   "cell_type": "code",
   "metadata": {
    "id": "Wx_rQtq5A7kN"
   },
   "source": [
    "# Datos:\n",
    "M3 = [[0, 7, 3],\n",
    "      [0, 0, 1]]\n",
    "M4 = [[4, 7],\n",
    "      [3, 5],\n",
    "      [7, 1]]\n",
    "\n",
    "# M3 * M4 = ???"
   ],
   "execution_count": null,
   "outputs": []
  },
  {
   "cell_type": "markdown",
   "metadata": {
    "id": "E3T6FTedBLi_"
   },
   "source": [
    "Rotar el punto B, 22º en el eje Y tomando A como el pivote de rotación."
   ]
  },
  {
   "cell_type": "code",
   "metadata": {
    "id": "huLhe-27BakN"
   },
   "source": [
    "# Datos:\n",
    "A = [1, 2, 0]\n",
    "B = [2, 1, 0]\n",
    "angle = 22 # grados"
   ],
   "execution_count": null,
   "outputs": []
  },
  {
   "cell_type": "markdown",
   "metadata": {
    "id": "XmRWnxFpBpzS"
   },
   "source": [
    "Teniendo un cubo de lado 2.5 unidades, con centro en C = [7, -2.2, 3.01]:\n",
    "*   Localiza sus vértices\n",
    "*   Encuentra la posición final de cada véertice al rotar el cubo con respecto al pivote P = [-0.23, 4.1, 0.81]\n",
    "*   Usa el eje Z para rotar\n",
    "\n"
   ]
  },
  {
   "cell_type": "code",
   "metadata": {
    "id": "OSQk285RCFj5"
   },
   "source": [
    "# Datos:\n",
    "lado = 2.5\n",
    "C = [7, -2.2, 3.01]\n",
    "P = [-0.23, 4.1, 0.81]"
   ],
   "execution_count": null,
   "outputs": []
  }
 ]
}